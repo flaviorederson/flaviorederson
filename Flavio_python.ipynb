{
  "nbformat": 4,
  "nbformat_minor": 0,
  "metadata": {
    "colab": {
      "provenance": [],
      "toc_visible": true,
      "authorship_tag": "ABX9TyMwaZA47/YHVEQ3gmuuExH+",
      "include_colab_link": true
    },
    "kernelspec": {
      "name": "python3",
      "display_name": "Python 3"
    },
    "language_info": {
      "name": "python"
    }
  },
  "cells": [
    {
      "cell_type": "markdown",
      "metadata": {
        "id": "view-in-github",
        "colab_type": "text"
      },
      "source": [
        "<a href=\"https://colab.research.google.com/github/flaviorederson/flaviorederson/blob/main/Flavio_python.ipynb\" target=\"_parent\"><img src=\"https://colab.research.google.com/assets/colab-badge.svg\" alt=\"Open In Colab\"/></a>"
      ]
    },
    {
      "cell_type": "code",
      "source": [
        "# @title Ola Mundo !\n",
        "print(\"Olá, mundo!\")"
      ],
      "metadata": {
        "colab": {
          "base_uri": "https://localhost:8080/"
        },
        "id": "tGryAUJHWvnl",
        "outputId": "8552aba8-9c3e-4984-eac2-94de27c4606b"
      },
      "execution_count": null,
      "outputs": [
        {
          "output_type": "stream",
          "name": "stdout",
          "text": [
            "Olá, mundo!\n"
          ]
        }
      ]
    },
    {
      "cell_type": "code",
      "source": [
        "# @title Calculo Simples\n",
        "numero1 = int(input())\n",
        "numero2 = int(input())\n",
        "numero3 = int(input())\n",
        "soma = numero1 + numero2 + numero3\n",
        "subtracao = numero1 - numero2 - numero3\n",
        "multiplicacao = numero1 * numero2 * numero3\n",
        "divisao = numero1 / numero2 /numero3\n",
        "\n",
        "print(\"Soma:\", soma)\n",
        "print(\"Subtração:\", subtracao)\n",
        "print(\"Multiplicação:\", multiplicacao)\n",
        "print(\"Divisão:\", divisao)"
      ],
      "metadata": {
        "colab": {
          "base_uri": "https://localhost:8080/"
        },
        "id": "Mj4GpfslXeiB",
        "outputId": "c72bdcb9-d296-4234-840b-e742f3629985"
      },
      "execution_count": null,
      "outputs": [
        {
          "output_type": "stream",
          "name": "stdout",
          "text": [
            "11\n",
            "34\n",
            "55\n",
            "Soma: 100\n",
            "Subtração: -78\n",
            "Multiplicação: 20570\n",
            "Divisão: 0.0058823529411764705\n"
          ]
        }
      ]
    },
    {
      "cell_type": "code",
      "source": [
        "# @title Entrada de Dados\n",
        "nome = input(\"Digite seu nome: \")\n",
        "data = input(\"Digite data de nascimento: \")\n",
        "curso = input(\"Digite o seu curso\")\n",
        "print(\"Olá,\", nome + \"!\")\n",
        "print(\"data de nascimento,\" , data)\n",
        "print(\"esta cursando,\" , curso)\n"
      ],
      "metadata": {
        "colab": {
          "base_uri": "https://localhost:8080/"
        },
        "id": "pU1gw5oGX4Io",
        "outputId": "98838313-5a6f-4af7-b1f5-7846a04f0c0b"
      },
      "execution_count": null,
      "outputs": [
        {
          "output_type": "stream",
          "name": "stdout",
          "text": [
            "Digite seu nome: Flavio Rederson\n",
            "Digite data de nascimento: 21/07/1976\n",
            "Digite o seu cursoDEVs\n",
            "Olá, Flavio Rederson!\n",
            "data de nascimento, 21/07/1976\n",
            "esta cursando, DEVs\n"
          ]
        }
      ]
    },
    {
      "cell_type": "code",
      "source": [
        "# @title Condições\n",
        "numero = int(input(\"Digite um número: \"))\n",
        "if numero % 2 == 0:\n",
        "  print(\"O número é par.\")\n",
        "else:\n",
        "  print(\"O número é ímpar.\")"
      ],
      "metadata": {
        "colab": {
          "base_uri": "https://localhost:8080/"
        },
        "id": "sLJ0yXcoYRL5",
        "outputId": "5cca4957-6e3d-41bf-813e-0d0d77ea105f"
      },
      "execution_count": null,
      "outputs": [
        {
          "output_type": "stream",
          "name": "stdout",
          "text": [
            "Digite um número: 32\n",
            "O número é par.\n"
          ]
        }
      ]
    },
    {
      "cell_type": "code",
      "source": [
        "# @title Laço de Repetição\n",
        "for i in range(1, 11):\n",
        "  print(i)\n"
      ],
      "metadata": {
        "colab": {
          "base_uri": "https://localhost:8080/"
        },
        "id": "2p4XXiQ0YotD",
        "outputId": "d9aca979-3cb4-4e57-a87d-1b89a8be5113"
      },
      "execution_count": null,
      "outputs": [
        {
          "output_type": "stream",
          "name": "stdout",
          "text": [
            "1\n",
            "2\n",
            "3\n",
            "4\n",
            "5\n",
            "6\n",
            "7\n",
            "8\n",
            "9\n",
            "10\n"
          ]
        }
      ]
    },
    {
      "cell_type": "code",
      "source": [
        "# Calculadora Simples\n",
        "num1 = float(input(\"Digite o primeiro número: \"))\n",
        "num2 = float(input(\"Digite o segundo número: \"))\n",
        "\n",
        "operacao = input(\"Digite a operação (+, -, *, /, %, ==, <>, **): \")\n",
        "if operacao == \"+\":\n",
        "  resultado = num1 + num2\n",
        "elif operacao == \"-\":\n",
        "  resultado = num1 - num2\n",
        "elif operacao == \"*\":\n",
        "  resultado = num1 * num2\n",
        "elif operacao == \"/\":\n",
        "  resultado = num1 / num2\n",
        "elif operacao == \"%\":\n",
        "  resultado = num1 % num2\n",
        "elif operacao == \"==\":\n",
        "  resultado = num1 == num2\n",
        "elif operacao == \"<>\":\n",
        "  resultado = num1 > num2\n",
        "elif operacao == \"**\":\n",
        "  resultado = num1 ** num2\n",
        "else:\n",
        "  print(\"Operação inválida.\")\n",
        "print(\"Resultado:\", resultado)"
      ],
      "metadata": {
        "colab": {
          "base_uri": "https://localhost:8080/"
        },
        "id": "0SBMtJ01HxuO",
        "outputId": "e4b1fa03-2fbc-4fed-d73c-6078c243c0a9"
      },
      "execution_count": null,
      "outputs": [
        {
          "output_type": "stream",
          "name": "stdout",
          "text": [
            "Digite o primeiro número: 33\n",
            "Digite o segundo número: 56\n",
            "Digite a operação (+, -, *, /, %, ==, <>, **): **\n",
            "Resultado: 1.0883802018597851e+85\n"
          ]
        }
      ]
    },
    {
      "cell_type": "code",
      "source": [
        "# Lista de Nome\n",
        "nomes = [\"Alice\", \"Bob\", \"Charlie\" ,\"Lucas\" ,\"Camila\" ,\"MArcos\" ,\"Glaucia\" ,\"Cavi\" ,\"Richard\"]\n",
        "for nome in nomes:\n",
        "  print(nome)"
      ],
      "metadata": {
        "colab": {
          "base_uri": "https://localhost:8080/"
        },
        "id": "o-loKlRiParE",
        "outputId": "2326ccd9-4154-4018-d9bb-0b48c2d9b9cb"
      },
      "execution_count": null,
      "outputs": [
        {
          "output_type": "stream",
          "name": "stdout",
          "text": [
            "Alice\n",
            "Bob\n",
            "Charlie\n",
            "Lucas\n",
            "Camila\n",
            "MArcos\n",
            "Glaucia\n",
            "Cavi\n",
            "Richard\n"
          ]
        }
      ]
    }
  ]
}